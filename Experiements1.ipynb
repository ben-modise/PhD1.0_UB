{
 "cells": [
  {
   "cell_type": "markdown",
   "id": "38667660",
   "metadata": {},
   "source": [
    "# Numerical Experiements for Convex Constrained Monotone Nonlinear Systems of equations\n"
   ]
  },
  {
   "cell_type": "code",
   "execution_count": 1,
   "id": "a75e4dfa",
   "metadata": {},
   "outputs": [],
   "source": [
    "from solvers import *\n",
    "from convex_projections import *\n",
    "from problems import *\n",
    "import pandas as pd\n",
    "import time"
   ]
  },
  {
   "cell_type": "markdown",
   "id": "7fb84507",
   "metadata": {},
   "source": [
    "## Setup"
   ]
  },
  {
   "cell_type": "code",
   "execution_count": 2,
   "id": "872d0bdb",
   "metadata": {},
   "outputs": [],
   "source": [
    "F = logarithmic\n",
    "x0 = 2*np.ones([5000,1])\n",
    "P_c = P_Rplus"
   ]
  },
  {
   "cell_type": "code",
   "execution_count": 3,
   "id": "7ef7493d",
   "metadata": {},
   "outputs": [
    {
     "data": {
      "text/plain": [
       "5000"
      ]
     },
     "execution_count": 3,
     "metadata": {},
     "output_type": "execute_result"
    }
   ],
   "source": [
    "x0.size"
   ]
  },
  {
   "cell_type": "code",
   "execution_count": 4,
   "id": "4414dd75",
   "metadata": {},
   "outputs": [],
   "source": [
    "x_star, k, fevals, norm_Fk = mcg(F, x0, P_c)"
   ]
  },
  {
   "cell_type": "code",
   "execution_count": 5,
   "id": "9e231bb4",
   "metadata": {},
   "outputs": [
    {
     "name": "stdout",
     "output_type": "stream",
     "text": [
      "2 5\n"
     ]
    }
   ],
   "source": [
    "print(k, fevals)"
   ]
  },
  {
   "cell_type": "code",
   "execution_count": 6,
   "id": "ab463cbd",
   "metadata": {},
   "outputs": [],
   "source": [
    "x0 = 8*np.ones([1000,1])"
   ]
  },
  {
   "cell_type": "code",
   "execution_count": 7,
   "id": "c9c52fbb",
   "metadata": {},
   "outputs": [
    {
     "name": "stdout",
     "output_type": "stream",
     "text": [
      "3 7\n"
     ]
    }
   ],
   "source": [
    "x_star, k, fevals, norm_Fk = mcg(F, x0, P_c)\n",
    "print(k, fevals)"
   ]
  },
  {
   "cell_type": "code",
   "execution_count": 8,
   "id": "ceeb1238",
   "metadata": {},
   "outputs": [
    {
     "data": {
      "text/plain": [
       "array([[0.],\n",
       "       [0.],\n",
       "       [0.],\n",
       "       [0.],\n",
       "       [0.]])"
      ]
     },
     "execution_count": 8,
     "metadata": {},
     "output_type": "execute_result"
    }
   ],
   "source": [
    "x_star[:5]"
   ]
  },
  {
   "cell_type": "code",
   "execution_count": 9,
   "id": "7676822b",
   "metadata": {},
   "outputs": [],
   "source": [
    "dimensions = [1000, 5000, 10000, 50000, 100000]\n",
    "x0_factors = [1, 2, 3, 5, 8, 0.5, 0.1, 10]\n",
    "X0s = [[factor*np.ones([dimension,1]) for factor in x0_factors] for dimension in dimensions]\n"
   ]
  },
  {
   "cell_type": "code",
   "execution_count": 10,
   "id": "e6fafd3a",
   "metadata": {},
   "outputs": [],
   "source": [
    "d = {}\n",
    "d['mcg'] = pd.DataFrame(columns = ['Iters', 'F_evals', 'Time', 'Norm_Fk'])"
   ]
  },
  {
   "cell_type": "markdown",
   "id": "03205fe0",
   "metadata": {},
   "source": [
    "We test using various problems setting initial x0s as follows\n",
    "\n",
    "$x_1 = (1, 1 \\cdots, 1)^T$,  $x_2 = (2, 2, \\cdots, 2)^T$, $x_3 = (3, 3, \\cdots 3)^T$,  $x_4 = (5, 5, \\cdots, 5)^T$\n",
    "$x_5 = (8, 8 \\cdots, 8)^T$, $x_6 = (0.5, 0.5, \\cdots, 0.5)^T$, $x_7 = (0.1, 0.1, \\cdots, 0.1)^T$, \n",
    "$x_8 = (10, 10 \\cdots, 10)^T$"
   ]
  },
  {
   "cell_type": "code",
   "execution_count": 11,
   "id": "d9afe274",
   "metadata": {},
   "outputs": [],
   "source": [
    "F = logarithmic\n",
    "for i in range(len(X0s[0])):\n",
    "    k = i+1\n",
    "    initial = 'x' + str(k)\n",
    "    x0 = X0s[0][i]\n",
    "    start_time = time.time()\n",
    "    x_star, k, fevals, norm_Fk = mcg(F, x0, P_c)\n",
    "    end_time = time.time()\n",
    "    Time = end_time - start_time\n",
    "    d['mcg'].loc[initial] = [k, fevals, Time, norm_Fk]\n"
   ]
  },
  {
   "cell_type": "markdown",
   "id": "ee78e949",
   "metadata": {},
   "source": [
    "For problem 2 at dimension = 1000 we have the following result"
   ]
  },
  {
   "cell_type": "code",
   "execution_count": 12,
   "id": "f21da014",
   "metadata": {},
   "outputs": [
    {
     "data": {
      "text/html": [
       "<div>\n",
       "<style scoped>\n",
       "    .dataframe tbody tr th:only-of-type {\n",
       "        vertical-align: middle;\n",
       "    }\n",
       "\n",
       "    .dataframe tbody tr th {\n",
       "        vertical-align: top;\n",
       "    }\n",
       "\n",
       "    .dataframe thead th {\n",
       "        text-align: right;\n",
       "    }\n",
       "</style>\n",
       "<table border=\"1\" class=\"dataframe\">\n",
       "  <thead>\n",
       "    <tr style=\"text-align: right;\">\n",
       "      <th></th>\n",
       "      <th>Iters</th>\n",
       "      <th>F_evals</th>\n",
       "      <th>Time</th>\n",
       "      <th>Norm_Fk</th>\n",
       "    </tr>\n",
       "  </thead>\n",
       "  <tbody>\n",
       "    <tr>\n",
       "      <th>x1</th>\n",
       "      <td>1.0</td>\n",
       "      <td>3.0</td>\n",
       "      <td>0.008649</td>\n",
       "      <td>0.0</td>\n",
       "    </tr>\n",
       "    <tr>\n",
       "      <th>x2</th>\n",
       "      <td>2.0</td>\n",
       "      <td>5.0</td>\n",
       "      <td>0.005949</td>\n",
       "      <td>0.0</td>\n",
       "    </tr>\n",
       "    <tr>\n",
       "      <th>x3</th>\n",
       "      <td>2.0</td>\n",
       "      <td>5.0</td>\n",
       "      <td>0.013011</td>\n",
       "      <td>0.0</td>\n",
       "    </tr>\n",
       "    <tr>\n",
       "      <th>x4</th>\n",
       "      <td>2.0</td>\n",
       "      <td>5.0</td>\n",
       "      <td>0.011118</td>\n",
       "      <td>0.0</td>\n",
       "    </tr>\n",
       "    <tr>\n",
       "      <th>x5</th>\n",
       "      <td>3.0</td>\n",
       "      <td>7.0</td>\n",
       "      <td>0.010816</td>\n",
       "      <td>0.0</td>\n",
       "    </tr>\n",
       "    <tr>\n",
       "      <th>x6</th>\n",
       "      <td>1.0</td>\n",
       "      <td>3.0</td>\n",
       "      <td>0.003159</td>\n",
       "      <td>0.0</td>\n",
       "    </tr>\n",
       "    <tr>\n",
       "      <th>x7</th>\n",
       "      <td>1.0</td>\n",
       "      <td>3.0</td>\n",
       "      <td>0.003176</td>\n",
       "      <td>0.0</td>\n",
       "    </tr>\n",
       "    <tr>\n",
       "      <th>x8</th>\n",
       "      <td>4.0</td>\n",
       "      <td>9.0</td>\n",
       "      <td>0.010411</td>\n",
       "      <td>0.0</td>\n",
       "    </tr>\n",
       "  </tbody>\n",
       "</table>\n",
       "</div>"
      ],
      "text/plain": [
       "    Iters  F_evals      Time  Norm_Fk\n",
       "x1    1.0      3.0  0.008649      0.0\n",
       "x2    2.0      5.0  0.005949      0.0\n",
       "x3    2.0      5.0  0.013011      0.0\n",
       "x4    2.0      5.0  0.011118      0.0\n",
       "x5    3.0      7.0  0.010816      0.0\n",
       "x6    1.0      3.0  0.003159      0.0\n",
       "x7    1.0      3.0  0.003176      0.0\n",
       "x8    4.0      9.0  0.010411      0.0"
      ]
     },
     "execution_count": 12,
     "metadata": {},
     "output_type": "execute_result"
    }
   ],
   "source": [
    "d['mcg']\n"
   ]
  },
  {
   "cell_type": "markdown",
   "id": "9d8a2234",
   "metadata": {},
   "source": [
    "Turning our attention to problem 5 which has more interesting results"
   ]
  },
  {
   "cell_type": "code",
   "execution_count": 13,
   "id": "303b52c3",
   "metadata": {},
   "outputs": [],
   "source": [
    "F = linear_monotone\n",
    "for i in range(len(X0s[0])):\n",
    "    k = i+1\n",
    "    initial = 'x' + str(k)\n",
    "    x0 = X0s[0][i]\n",
    "    start_time = time.time()\n",
    "    x_star, k, fevals, norm_Fk = mcg(F, x0, P_c)\n",
    "    end_time = time.time()\n",
    "    Time = end_time - start_time\n",
    "    d['mcg'].loc[initial] = [k, fevals, Time, norm_Fk]"
   ]
  },
  {
   "cell_type": "code",
   "execution_count": 14,
   "id": "42088c53",
   "metadata": {},
   "outputs": [
    {
     "data": {
      "text/html": [
       "<div>\n",
       "<style scoped>\n",
       "    .dataframe tbody tr th:only-of-type {\n",
       "        vertical-align: middle;\n",
       "    }\n",
       "\n",
       "    .dataframe tbody tr th {\n",
       "        vertical-align: top;\n",
       "    }\n",
       "\n",
       "    .dataframe thead th {\n",
       "        text-align: right;\n",
       "    }\n",
       "</style>\n",
       "<table border=\"1\" class=\"dataframe\">\n",
       "  <thead>\n",
       "    <tr style=\"text-align: right;\">\n",
       "      <th></th>\n",
       "      <th>Iters</th>\n",
       "      <th>F_evals</th>\n",
       "      <th>Time</th>\n",
       "      <th>Norm_Fk</th>\n",
       "    </tr>\n",
       "  </thead>\n",
       "  <tbody>\n",
       "    <tr>\n",
       "      <th>x1</th>\n",
       "      <td>38.0</td>\n",
       "      <td>190.0</td>\n",
       "      <td>0.131997</td>\n",
       "      <td>5.780224e-07</td>\n",
       "    </tr>\n",
       "    <tr>\n",
       "      <th>x2</th>\n",
       "      <td>27.0</td>\n",
       "      <td>136.0</td>\n",
       "      <td>0.069517</td>\n",
       "      <td>4.817343e-07</td>\n",
       "    </tr>\n",
       "    <tr>\n",
       "      <th>x3</th>\n",
       "      <td>36.0</td>\n",
       "      <td>181.0</td>\n",
       "      <td>0.096762</td>\n",
       "      <td>5.866614e-07</td>\n",
       "    </tr>\n",
       "    <tr>\n",
       "      <th>x4</th>\n",
       "      <td>28.0</td>\n",
       "      <td>141.0</td>\n",
       "      <td>0.073143</td>\n",
       "      <td>8.494047e-07</td>\n",
       "    </tr>\n",
       "    <tr>\n",
       "      <th>x5</th>\n",
       "      <td>28.0</td>\n",
       "      <td>141.0</td>\n",
       "      <td>0.073278</td>\n",
       "      <td>6.071560e-07</td>\n",
       "    </tr>\n",
       "    <tr>\n",
       "      <th>x6</th>\n",
       "      <td>42.0</td>\n",
       "      <td>211.0</td>\n",
       "      <td>0.108950</td>\n",
       "      <td>9.245495e-07</td>\n",
       "    </tr>\n",
       "    <tr>\n",
       "      <th>x7</th>\n",
       "      <td>50.0</td>\n",
       "      <td>251.0</td>\n",
       "      <td>0.129172</td>\n",
       "      <td>7.950286e-07</td>\n",
       "    </tr>\n",
       "    <tr>\n",
       "      <th>x8</th>\n",
       "      <td>27.0</td>\n",
       "      <td>136.0</td>\n",
       "      <td>0.069960</td>\n",
       "      <td>9.961981e-07</td>\n",
       "    </tr>\n",
       "  </tbody>\n",
       "</table>\n",
       "</div>"
      ],
      "text/plain": [
       "    Iters  F_evals      Time       Norm_Fk\n",
       "x1   38.0    190.0  0.131997  5.780224e-07\n",
       "x2   27.0    136.0  0.069517  4.817343e-07\n",
       "x3   36.0    181.0  0.096762  5.866614e-07\n",
       "x4   28.0    141.0  0.073143  8.494047e-07\n",
       "x5   28.0    141.0  0.073278  6.071560e-07\n",
       "x6   42.0    211.0  0.108950  9.245495e-07\n",
       "x7   50.0    251.0  0.129172  7.950286e-07\n",
       "x8   27.0    136.0  0.069960  9.961981e-07"
      ]
     },
     "execution_count": 14,
     "metadata": {},
     "output_type": "execute_result"
    }
   ],
   "source": [
    "d['mcg']"
   ]
  },
  {
   "cell_type": "code",
   "execution_count": null,
   "id": "249b67e5",
   "metadata": {},
   "outputs": [],
   "source": []
  }
 ],
 "metadata": {
  "kernelspec": {
   "display_name": "Python 3 (ipykernel)",
   "language": "python",
   "name": "python3"
  },
  "language_info": {
   "codemirror_mode": {
    "name": "ipython",
    "version": 3
   },
   "file_extension": ".py",
   "mimetype": "text/x-python",
   "name": "python",
   "nbconvert_exporter": "python",
   "pygments_lexer": "ipython3",
   "version": "3.9.10"
  }
 },
 "nbformat": 4,
 "nbformat_minor": 5
}
