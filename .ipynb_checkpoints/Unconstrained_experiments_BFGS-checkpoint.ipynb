{
 "cells": [
  {
   "cell_type": "markdown",
   "id": "f869edc1",
   "metadata": {},
   "source": [
    "# Numerical experiements for unconstrained monotone systems of equations\n"
   ]
  },
  {
   "cell_type": "code",
   "execution_count": 1,
   "id": "b0e67b73",
   "metadata": {},
   "outputs": [],
   "source": [
    "from solvers_unconstrained import DMBHP\n",
    "from problems import *\n",
    "import numpy as np\n",
    "import pandas as pd"
   ]
  },
  {
   "cell_type": "markdown",
   "id": "acdb4af7",
   "metadata": {},
   "source": [
    "For DMBPH,<br>\n",
    "problem1 = problem 3 (in problems) <br>\n",
    "problem2 = tridiagonal_exponential <br>\n",
    "problem3 = strictly_convex <br>\n",
    "problem4 = linear_monotone <br>\n",
    "problem5 = logarithmic <br>\n",
    "problem6 = tridiagonal<br>\n",
    "problem7 = problem7 <br>\n",
    "problem8 = problem8<br>\n",
    "problem9 = problem9 <br>"
   ]
  },
  {
   "cell_type": "code",
   "execution_count": 18,
   "id": "12097621",
   "metadata": {},
   "outputs": [],
   "source": [
    "dimensions = [20000,40000,60000,100000]\n",
    "problem1 = problem3\n",
    "problem2 = tridiagonal_exponential\n",
    "problem3 = strictly_convex\n",
    "problem4 = linear_monotone\n",
    "problem5 = logarithmic2\n",
    "problem6 = tridiagonal\n",
    "problems = [problem6, problem7, problem8, problem9,]\n",
    "#problems = [problem1, problem2, problem3]\n"
   ]
  },
  {
   "cell_type": "code",
   "execution_count": 3,
   "id": "b3fe0084",
   "metadata": {},
   "outputs": [],
   "source": [
    "table1 = pd.read_excel(\"table1_dmbhp.xlsx\")\n",
    "table2 = pd.read_excel(\"table2_dmbhp.xlsx\")"
   ]
  },
  {
   "cell_type": "code",
   "execution_count": 4,
   "id": "faa77d8a",
   "metadata": {},
   "outputs": [
    {
     "data": {
      "text/html": [
       "<div>\n",
       "<style scoped>\n",
       "    .dataframe tbody tr th:only-of-type {\n",
       "        vertical-align: middle;\n",
       "    }\n",
       "\n",
       "    .dataframe tbody tr th {\n",
       "        vertical-align: top;\n",
       "    }\n",
       "\n",
       "    .dataframe thead th {\n",
       "        text-align: right;\n",
       "    }\n",
       "</style>\n",
       "<table border=\"1\" class=\"dataframe\">\n",
       "  <thead>\n",
       "    <tr style=\"text-align: right;\">\n",
       "      <th></th>\n",
       "      <th>P(n)</th>\n",
       "      <th>Iters</th>\n",
       "      <th>F eval</th>\n",
       "      <th>Norm F</th>\n",
       "    </tr>\n",
       "  </thead>\n",
       "  <tbody>\n",
       "    <tr>\n",
       "      <th>0</th>\n",
       "      <td>1(20000)</td>\n",
       "      <td>9</td>\n",
       "      <td>28</td>\n",
       "      <td>3.420000e-07</td>\n",
       "    </tr>\n",
       "    <tr>\n",
       "      <th>1</th>\n",
       "      <td>1(40000)</td>\n",
       "      <td>9</td>\n",
       "      <td>28</td>\n",
       "      <td>4.840000e-07</td>\n",
       "    </tr>\n",
       "    <tr>\n",
       "      <th>2</th>\n",
       "      <td>1(60000)</td>\n",
       "      <td>9</td>\n",
       "      <td>28</td>\n",
       "      <td>5.920000e-07</td>\n",
       "    </tr>\n",
       "    <tr>\n",
       "      <th>3</th>\n",
       "      <td>1(100000)</td>\n",
       "      <td>9</td>\n",
       "      <td>28</td>\n",
       "      <td>7.650000e-07</td>\n",
       "    </tr>\n",
       "    <tr>\n",
       "      <th>4</th>\n",
       "      <td>2(20000)</td>\n",
       "      <td>13</td>\n",
       "      <td>43</td>\n",
       "      <td>5.640000e-07</td>\n",
       "    </tr>\n",
       "  </tbody>\n",
       "</table>\n",
       "</div>"
      ],
      "text/plain": [
       "        P(n)  Iters  F eval        Norm F\n",
       "0   1(20000)      9      28  3.420000e-07\n",
       "1   1(40000)      9      28  4.840000e-07\n",
       "2   1(60000)      9      28  5.920000e-07\n",
       "3  1(100000)      9      28  7.650000e-07\n",
       "4   2(20000)     13      43  5.640000e-07"
      ]
     },
     "execution_count": 4,
     "metadata": {},
     "output_type": "execute_result"
    }
   ],
   "source": [
    "table2.head()"
   ]
  },
  {
   "cell_type": "code",
   "execution_count": 5,
   "id": "de3b4aa6",
   "metadata": {},
   "outputs": [
    {
     "data": {
      "text/plain": [
       "Index(['P(n)', 'Iters', 'F eval', 'Norm F'], dtype='object')"
      ]
     },
     "execution_count": 5,
     "metadata": {},
     "output_type": "execute_result"
    }
   ],
   "source": [
    "table1.columns"
   ]
  },
  {
   "cell_type": "code",
   "execution_count": 14,
   "id": "9b2d3762",
   "metadata": {},
   "outputs": [],
   "source": [
    "py_table1 = pd.DataFrame(columns = table1.columns)"
   ]
  },
  {
   "cell_type": "code",
   "execution_count": 19,
   "id": "07048367",
   "metadata": {},
   "outputs": [],
   "source": [
    "#run problems and record to table\n",
    "n = 0\n",
    "for F in problems:\n",
    "    n += 1\n",
    "    for dim in dimensions:\n",
    "        x0 = np.ones([dim,1])\n",
    "        Pn = str(n) + '(' + str(dim) + ')'\n",
    "        x_star, iters, Fevals, norm_F = DMBHP(F, x0)\n",
    "        row = [Pn, iters, Fevals, norm_F]\n",
    "        py_table1.loc[len(py_table1)] = row\n",
    "        "
   ]
  },
  {
   "cell_type": "code",
   "execution_count": 24,
   "id": "b16c7325",
   "metadata": {},
   "outputs": [
    {
     "ename": "KeyboardInterrupt",
     "evalue": "",
     "output_type": "error",
     "traceback": [
      "\u001b[0;31m---------------------------------------------------------------------------\u001b[0m",
      "\u001b[0;31mKeyboardInterrupt\u001b[0m                         Traceback (most recent call last)",
      "Input \u001b[0;32mIn [24]\u001b[0m, in \u001b[0;36m<module>\u001b[0;34m\u001b[0m\n\u001b[0;32m----> 1\u001b[0m x_star, iters, Fevals, norm_F \u001b[38;5;241m=\u001b[39m \u001b[43mDMBHP\u001b[49m\u001b[43m(\u001b[49m\u001b[43mproblem5\u001b[49m\u001b[43m,\u001b[49m\u001b[43m \u001b[49m\u001b[43mx0\u001b[49m\u001b[43m)\u001b[49m\n",
      "File \u001b[0;32m~/Documents/PhD/Numerical_experiments/Phd1.0_UB/solvers_unconstrained.py:86\u001b[0m, in \u001b[0;36mDMBHP\u001b[0;34m(F, x0, Tol)\u001b[0m\n\u001b[1;32m     84\u001b[0m dk1 \u001b[38;5;241m=\u001b[39m compute_dk_dmbhp(Fk1, Fk, dk, sk)\n\u001b[1;32m     85\u001b[0m \u001b[38;5;28;01massert\u001b[39;00m inner(dk1, Fk1) \u001b[38;5;241m<\u001b[39m\u001b[38;5;241m=\u001b[39m \u001b[38;5;241m-\u001b[39mnorm(Fk1)\u001b[38;5;241m*\u001b[39m\u001b[38;5;241m*\u001b[39m\u001b[38;5;241m2\u001b[39m, \u001b[38;5;124mf\u001b[39m\u001b[38;5;124m\"\u001b[39m\u001b[38;5;124mdk nt descent direction\u001b[39m\u001b[38;5;124m\"\u001b[39m\n\u001b[0;32m---> 86\u001b[0m alpha_k, zk, Fzk \u001b[38;5;241m=\u001b[39m \u001b[43mline_search\u001b[49m\u001b[43m(\u001b[49m\u001b[43mF\u001b[49m\u001b[43m,\u001b[49m\u001b[43m \u001b[49m\u001b[43mxk\u001b[49m\u001b[43m,\u001b[49m\u001b[43m \u001b[49m\u001b[43mdk1\u001b[49m\u001b[43m)\u001b[49m\n\u001b[1;32m     87\u001b[0m sk \u001b[38;5;241m=\u001b[39m zk \u001b[38;5;241m-\u001b[39m xk\n\u001b[1;32m     88\u001b[0m \u001b[38;5;28;01mif\u001b[39;00m norm(Fzk) \u001b[38;5;241m<\u001b[39m Tol:\n",
      "File \u001b[0;32m~/Documents/PhD/Numerical_experiments/Phd1.0_UB/solvers_unconstrained.py:21\u001b[0m, in \u001b[0;36mline_search\u001b[0;34m(F, xk, dk, beta, rho, sigma)\u001b[0m\n\u001b[1;32m     19\u001b[0m alpha \u001b[38;5;241m=\u001b[39m beta\n\u001b[1;32m     20\u001b[0m w \u001b[38;5;241m=\u001b[39m xk \u001b[38;5;241m+\u001b[39m alpha\u001b[38;5;241m*\u001b[39mdk\n\u001b[0;32m---> 21\u001b[0m F_w \u001b[38;5;241m=\u001b[39m \u001b[43mF\u001b[49m\u001b[43m(\u001b[49m\u001b[43mw\u001b[49m\u001b[43m)\u001b[49m\n\u001b[1;32m     22\u001b[0m mk \u001b[38;5;241m=\u001b[39m \u001b[38;5;241m0\u001b[39m\n\u001b[1;32m     23\u001b[0m \u001b[38;5;28;01mwhile\u001b[39;00m \u001b[38;5;241m-\u001b[39mnp\u001b[38;5;241m.\u001b[39msum(F_w\u001b[38;5;241m*\u001b[39mdk) \u001b[38;5;241m<\u001b[39m alpha\u001b[38;5;241m*\u001b[39msigma_norm_dk_2:\n",
      "File \u001b[0;32m~/Documents/PhD/Numerical_experiments/Phd1.0_UB/solvers_unconstrained.py:12\u001b[0m, in \u001b[0;36mcounter.<locals>.wrapper_function\u001b[0;34m(*args, **kwargs)\u001b[0m\n\u001b[1;32m     10\u001b[0m \u001b[38;5;28;01mdef\u001b[39;00m \u001b[38;5;21mwrapper_function\u001b[39m(\u001b[38;5;241m*\u001b[39margs, \u001b[38;5;241m*\u001b[39m\u001b[38;5;241m*\u001b[39mkwargs):\n\u001b[1;32m     11\u001b[0m     wrapper_function\u001b[38;5;241m.\u001b[39mevals \u001b[38;5;241m+\u001b[39m\u001b[38;5;241m=\u001b[39m \u001b[38;5;241m1\u001b[39m\n\u001b[0;32m---> 12\u001b[0m     \u001b[38;5;28;01mreturn\u001b[39;00m \u001b[43mF\u001b[49m\u001b[43m(\u001b[49m\u001b[38;5;241;43m*\u001b[39;49m\u001b[43margs\u001b[49m\u001b[43m,\u001b[49m\u001b[43m \u001b[49m\u001b[38;5;241;43m*\u001b[39;49m\u001b[38;5;241;43m*\u001b[39;49m\u001b[43mkwargs\u001b[49m\u001b[43m)\u001b[49m\n",
      "File \u001b[0;32m~/Documents/PhD/Numerical_experiments/Phd1.0_UB/problems.py:26\u001b[0m, in \u001b[0;36mlogarithmic\u001b[0;34m(x)\u001b[0m\n\u001b[1;32m     23\u001b[0m \u001b[38;5;124;03m'''Problem 2 from Abubakar et. al/ Results in Applied Mathematics\u001b[39;00m\n\u001b[1;32m     24\u001b[0m \u001b[38;5;124;03m4 (2019) 10069'''\u001b[39;00m\n\u001b[1;32m     25\u001b[0m n \u001b[38;5;241m=\u001b[39m x\u001b[38;5;241m.\u001b[39msize\n\u001b[0;32m---> 26\u001b[0m y \u001b[38;5;241m=\u001b[39m np\u001b[38;5;241m.\u001b[39mlog(np\u001b[38;5;241m.\u001b[39mabs(x)\u001b[38;5;241m+\u001b[39m\u001b[38;5;241m1\u001b[39m) \u001b[38;5;241m-\u001b[39m \u001b[43mx\u001b[49m\u001b[38;5;241;43m/\u001b[39;49m\u001b[43mn\u001b[49m\n\u001b[1;32m     27\u001b[0m \u001b[38;5;28;01mreturn\u001b[39;00m y\n",
      "\u001b[0;31mKeyboardInterrupt\u001b[0m: "
     ]
    }
   ],
   "source": [
    "x_star, iters, Fevals, norm_F = DMBHP(problem5, x0)"
   ]
  },
  {
   "cell_type": "code",
   "execution_count": 20,
   "id": "c5de7bfa",
   "metadata": {},
   "outputs": [
    {
     "data": {
      "text/html": [
       "<div>\n",
       "<style scoped>\n",
       "    .dataframe tbody tr th:only-of-type {\n",
       "        vertical-align: middle;\n",
       "    }\n",
       "\n",
       "    .dataframe tbody tr th {\n",
       "        vertical-align: top;\n",
       "    }\n",
       "\n",
       "    .dataframe thead th {\n",
       "        text-align: right;\n",
       "    }\n",
       "</style>\n",
       "<table border=\"1\" class=\"dataframe\">\n",
       "  <thead>\n",
       "    <tr style=\"text-align: right;\">\n",
       "      <th></th>\n",
       "      <th>P(n)</th>\n",
       "      <th>Iters</th>\n",
       "      <th>F eval</th>\n",
       "      <th>Norm F</th>\n",
       "    </tr>\n",
       "  </thead>\n",
       "  <tbody>\n",
       "    <tr>\n",
       "      <th>27</th>\n",
       "      <td>3(100000)</td>\n",
       "      <td>9</td>\n",
       "      <td>32</td>\n",
       "      <td>9.079389e-07</td>\n",
       "    </tr>\n",
       "    <tr>\n",
       "      <th>28</th>\n",
       "      <td>4(20000)</td>\n",
       "      <td>7</td>\n",
       "      <td>35</td>\n",
       "      <td>2.245495e-07</td>\n",
       "    </tr>\n",
       "    <tr>\n",
       "      <th>29</th>\n",
       "      <td>4(40000)</td>\n",
       "      <td>7</td>\n",
       "      <td>35</td>\n",
       "      <td>3.175609e-07</td>\n",
       "    </tr>\n",
       "    <tr>\n",
       "      <th>30</th>\n",
       "      <td>4(60000)</td>\n",
       "      <td>7</td>\n",
       "      <td>35</td>\n",
       "      <td>3.889311e-07</td>\n",
       "    </tr>\n",
       "    <tr>\n",
       "      <th>31</th>\n",
       "      <td>4(100000)</td>\n",
       "      <td>7</td>\n",
       "      <td>35</td>\n",
       "      <td>5.021079e-07</td>\n",
       "    </tr>\n",
       "  </tbody>\n",
       "</table>\n",
       "</div>"
      ],
      "text/plain": [
       "         P(n)  Iters  F eval        Norm F\n",
       "27  3(100000)      9      32  9.079389e-07\n",
       "28   4(20000)      7      35  2.245495e-07\n",
       "29   4(40000)      7      35  3.175609e-07\n",
       "30   4(60000)      7      35  3.889311e-07\n",
       "31  4(100000)      7      35  5.021079e-07"
      ]
     },
     "execution_count": 20,
     "metadata": {},
     "output_type": "execute_result"
    }
   ],
   "source": [
    "py_table1.tail()\n"
   ]
  },
  {
   "cell_type": "code",
   "execution_count": 21,
   "id": "fb99141f",
   "metadata": {},
   "outputs": [
    {
     "data": {
      "text/html": [
       "<div>\n",
       "<style scoped>\n",
       "    .dataframe tbody tr th:only-of-type {\n",
       "        vertical-align: middle;\n",
       "    }\n",
       "\n",
       "    .dataframe tbody tr th {\n",
       "        vertical-align: top;\n",
       "    }\n",
       "\n",
       "    .dataframe thead th {\n",
       "        text-align: right;\n",
       "    }\n",
       "</style>\n",
       "<table border=\"1\" class=\"dataframe\">\n",
       "  <thead>\n",
       "    <tr style=\"text-align: right;\">\n",
       "      <th></th>\n",
       "      <th>P(n)</th>\n",
       "      <th>Iters</th>\n",
       "      <th>F eval</th>\n",
       "      <th>Norm F</th>\n",
       "    </tr>\n",
       "  </thead>\n",
       "  <tbody>\n",
       "    <tr>\n",
       "      <th>31</th>\n",
       "      <td>8(100000)</td>\n",
       "      <td>9</td>\n",
       "      <td>28</td>\n",
       "      <td>7.650000e-07</td>\n",
       "    </tr>\n",
       "    <tr>\n",
       "      <th>32</th>\n",
       "      <td>9(20000)</td>\n",
       "      <td>7</td>\n",
       "      <td>30</td>\n",
       "      <td>4.320000e-07</td>\n",
       "    </tr>\n",
       "    <tr>\n",
       "      <th>33</th>\n",
       "      <td>9(40000)</td>\n",
       "      <td>7</td>\n",
       "      <td>30</td>\n",
       "      <td>4.940000e-07</td>\n",
       "    </tr>\n",
       "    <tr>\n",
       "      <th>34</th>\n",
       "      <td>9(60000)</td>\n",
       "      <td>8</td>\n",
       "      <td>34</td>\n",
       "      <td>4.380000e-08</td>\n",
       "    </tr>\n",
       "    <tr>\n",
       "      <th>35</th>\n",
       "      <td>9(100000)</td>\n",
       "      <td>8</td>\n",
       "      <td>34</td>\n",
       "      <td>5.650000e-08</td>\n",
       "    </tr>\n",
       "  </tbody>\n",
       "</table>\n",
       "</div>"
      ],
      "text/plain": [
       "         P(n)  Iters  F eval        Norm F\n",
       "31  8(100000)      9      28  7.650000e-07\n",
       "32   9(20000)      7      30  4.320000e-07\n",
       "33   9(40000)      7      30  4.940000e-07\n",
       "34   9(60000)      8      34  4.380000e-08\n",
       "35  9(100000)      8      34  5.650000e-08"
      ]
     },
     "execution_count": 21,
     "metadata": {},
     "output_type": "execute_result"
    }
   ],
   "source": [
    "table1.tail()"
   ]
  },
  {
   "cell_type": "code",
   "execution_count": 22,
   "id": "0434f722",
   "metadata": {},
   "outputs": [
    {
     "data": {
      "text/plain": [
       "32"
      ]
     },
     "execution_count": 22,
     "metadata": {},
     "output_type": "execute_result"
    }
   ],
   "source": [
    "len(py_table1)"
   ]
  },
  {
   "cell_type": "code",
   "execution_count": 23,
   "id": "502d76dc",
   "metadata": {},
   "outputs": [
    {
     "name": "stdout",
     "output_type": "stream",
     "text": [
      "         P(n)  Iters  F eval        Norm F\n",
      "0    1(20000)      9      33  1.673619e-07\n",
      "1    1(40000)      9      33  2.366855e-07\n",
      "2    1(60000)      9      33  2.898794e-07\n",
      "3   1(100000)      9      33  3.742327e-07\n",
      "4    2(20000)      9      32  7.070625e-07\n",
      "5    2(40000)      9      32  9.999407e-07\n",
      "6    2(60000)     10      35  1.224673e-07\n",
      "7   2(100000)     10      35  1.581046e-07\n",
      "8    3(20000)      9      33  1.673619e-07\n",
      "9    3(40000)      9      33  2.366855e-07\n",
      "10   3(60000)      9      33  2.898794e-07\n",
      "11  3(100000)      9      33  3.742327e-07\n",
      "12   4(20000)     77     475  9.402582e-07\n",
      "13   4(40000)     74     457  9.638049e-07\n",
      "14   4(60000)     74     457  9.110780e-07\n",
      "15  4(100000)     74     457  8.718644e-07\n",
      "16   1(20000)     15      99  6.405319e-07\n",
      "17   1(40000)     15      99  9.051565e-07\n",
      "18   1(60000)     16     105  3.056262e-07\n",
      "19  1(100000)     16     105  3.944522e-07\n",
      "20   2(20000)     41     359  8.293667e-07\n",
      "21   2(40000)     47     404  8.841078e-07\n",
      "22   2(60000)     44     383  5.563037e-07\n",
      "23  2(100000)     47     468  7.973873e-07\n",
      "24   3(20000)      9      32  4.060426e-07\n",
      "25   3(40000)      9      32  5.742310e-07\n",
      "26   3(60000)      9      32  7.032864e-07\n",
      "27  3(100000)      9      32  9.079389e-07\n",
      "28   4(20000)      7      35  2.245495e-07\n",
      "29   4(40000)      7      35  3.175609e-07\n",
      "30   4(60000)      7      35  3.889311e-07\n",
      "31  4(100000)      7      35  5.021079e-07\n"
     ]
    }
   ],
   "source": [
    "print(py_table1)"
   ]
  },
  {
   "cell_type": "code",
   "execution_count": null,
   "id": "fce80d58",
   "metadata": {},
   "outputs": [],
   "source": []
  }
 ],
 "metadata": {
  "kernelspec": {
   "display_name": "Python 3 (ipykernel)",
   "language": "python",
   "name": "python3"
  },
  "language_info": {
   "codemirror_mode": {
    "name": "ipython",
    "version": 3
   },
   "file_extension": ".py",
   "mimetype": "text/x-python",
   "name": "python",
   "nbconvert_exporter": "python",
   "pygments_lexer": "ipython3",
   "version": "3.9.10"
  }
 },
 "nbformat": 4,
 "nbformat_minor": 5
}
