{
 "cells": [
  {
   "cell_type": "markdown",
   "id": "c7bda954",
   "metadata": {},
   "source": [
    "# Numerical Experiements for Convex Constrained Monotone Nonlinear Systems of equations\n"
   ]
  },
  {
   "cell_type": "code",
   "execution_count": 4,
   "id": "09ce965e",
   "metadata": {},
   "outputs": [],
   "source": [
    "from solvers import *\n",
    "from convex_projections import *\n",
    "from problems import *"
   ]
  },
  {
   "cell_type": "code",
   "execution_count": null,
   "id": "949e5f0e",
   "metadata": {},
   "outputs": [],
   "source": []
  }
 ],
 "metadata": {
  "kernelspec": {
   "display_name": "Python 3 (ipykernel)",
   "language": "python",
   "name": "python3"
  },
  "language_info": {
   "codemirror_mode": {
    "name": "ipython",
    "version": 3
   },
   "file_extension": ".py",
   "mimetype": "text/x-python",
   "name": "python",
   "nbconvert_exporter": "python",
   "pygments_lexer": "ipython3",
   "version": "3.9.10"
  }
 },
 "nbformat": 4,
 "nbformat_minor": 5
}
